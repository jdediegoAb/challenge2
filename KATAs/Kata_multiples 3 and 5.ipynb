{
 "cells": [
  {
   "cell_type": "code",
   "execution_count": null,
   "id": "49a4249b",
   "metadata": {},
   "outputs": [],
   "source": [
    "#If we list all the natural numbers below 10 that are multiples of 3 or 5, we get 3, 5, 6 and 9. \n",
    "#The sum of these multiples is 23.\n",
    "#Finish the solution so that it returns the sum of all the multiples of 3 or 5 below the number passed in. \n",
    "#Additionally, if the number is negative, return 0 (for languages that do have them)."
   ]
  },
  {
   "cell_type": "code",
   "execution_count": 5,
   "id": "829bbb3a",
   "metadata": {},
   "outputs": [],
   "source": [
    "  \n",
    "def solution(number):\n",
    "    sum = 0\n",
    "    if number < 0:\n",
    "        return 0\n",
    "    for i in range(number):\n",
    "        if (i % 3 ==0) or (i % 5 == 0):\n",
    "            sum += i\n",
    "    return sum\n"
   ]
  },
  {
   "cell_type": "code",
   "execution_count": 11,
   "id": "a8210a29",
   "metadata": {},
   "outputs": [
    {
     "name": "stdout",
     "output_type": "stream",
     "text": [
      "number: 20\n"
     ]
    },
    {
     "data": {
      "text/plain": [
       "78"
      ]
     },
     "execution_count": 11,
     "metadata": {},
     "output_type": "execute_result"
    }
   ],
   "source": [
    "a=int(input(\"number: \"))\n",
    "solution(a)"
   ]
  },
  {
   "cell_type": "code",
   "execution_count": null,
   "id": "3cf13bfd",
   "metadata": {},
   "outputs": [],
   "source": []
  }
 ],
 "metadata": {
  "kernelspec": {
   "display_name": "Python [conda env:m2-ih]",
   "language": "python",
   "name": "conda-env-m2-ih-py"
  },
  "language_info": {
   "codemirror_mode": {
    "name": "ipython",
    "version": 3
   },
   "file_extension": ".py",
   "mimetype": "text/x-python",
   "name": "python",
   "nbconvert_exporter": "python",
   "pygments_lexer": "ipython3",
   "version": "3.9.12"
  }
 },
 "nbformat": 4,
 "nbformat_minor": 5
}
