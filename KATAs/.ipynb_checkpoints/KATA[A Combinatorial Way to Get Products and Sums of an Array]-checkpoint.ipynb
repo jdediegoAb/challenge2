{
 "cells": [
  {
   "cell_type": "code",
   "execution_count": 25,
   "id": "9b76e26b",
   "metadata": {},
   "outputs": [],
   "source": [
    "import itertools"
   ]
  },
  {
   "cell_type": "code",
   "execution_count": 1,
   "id": "c99b7547",
   "metadata": {},
   "outputs": [],
   "source": [
    "def eval_prod_sum(arr, num_fact, num_add, max_val):\n",
    "    \n",
    "    # implement me!\n",
    "    \n",
    "    return [{f\"Below than {max_val}\" : 0},\n",
    "            {f\"Equals to {max_val}\"  : 0},\n",
    "            {f\"Higher than {max_val}\": 0}]"
   ]
  },
  {
   "cell_type": "code",
   "execution_count": 19,
   "id": "add4dbab",
   "metadata": {},
   "outputs": [
    {
     "name": "stdout",
     "output_type": "stream",
     "text": [
      "4\n",
      "[92, 88, 4, 45]\n"
     ]
    }
   ],
   "source": [
    "import random\n",
    "\n",
    "lenght = int(input())\n",
    "arr= [random.randint(1,100) for i in range(lenght)]\n",
    "print(arr) "
   ]
  },
  {
   "cell_type": "code",
   "execution_count": 23,
   "id": "3ea54406",
   "metadata": {},
   "outputs": [
    {
     "name": "stdout",
     "output_type": "stream",
     "text": [
      "3\n"
     ]
    },
    {
     "data": {
      "text/plain": [
       "[(88, 4, 45), (45, 4, 92), (45, 88, 4), (88, 92, 45)]"
      ]
     },
     "execution_count": 23,
     "metadata": {},
     "output_type": "execute_result"
    }
   ],
   "source": [
    "num_fact= int(input())\n",
    "#[a, b, c, d] and num_fact = 3, the products would be a*b*c, a*b*d, a*c*d, b*c*d\n",
    "list1=[]\n",
    "for i in (arr):\n",
    "    x=tuple(random.sample(arr, num_fact))\n",
    "    list1.append(x)\n",
    "list1\n"
   ]
  },
  {
   "cell_type": "code",
   "execution_count": 11,
   "id": "da602c53",
   "metadata": {},
   "outputs": [],
   "source": [
    "def combs(arr, num_fact):\n",
    "    comb = combinations(arr, num_fact)\n",
    "    return list(comb)\n",
    "\n",
    "\n",
    "def prod(val):  \n",
    "    res = 1 \n",
    "    for ele in val:  \n",
    "        res *= ele  \n",
    "    return res\n",
    "\n",
    "\n",
    "def adds(val):  \n",
    "    res = 0 \n",
    "    for ele in val:  \n",
    "        res += ele  \n",
    "    return res\n",
    "\n",
    "\n",
    "\n",
    "\n",
    "\n",
    "def eval_prod_sum(arr, num_fact, num_add, max_val):\n",
    "    values = [num_fact, num_add, max_val]\n",
    "    if any(isinstance(val, (str, float, str, list, dict, tuple)) for val in arr):\n",
    "        return \"Error. Unexpected entries\"\n",
    "    elif any(isinstance(val, (str, float, str, list, dict, tuple)) or val == 0 or val < 0 for val in values):\n",
    "        return \"Error. Unexpected entries\"\n",
    "    elif num_fact > len(arr):\n",
    "        return \"Error. Number of factors too high\"\n",
    "    elif num_add > len(combs(arr, num_fact)):\n",
    "        return \"Error. Number of addens too high\"\n",
    "    else:\n",
    "        comb1 = combs(arr, num_fact)\n",
    "        addens = [prod(list(i)) for i in comb1]\n",
    "        comb2 = combs(addens, num_add)\n",
    "        sums = [adds(list(i)) for i in comb2]\n",
    "        count1 = 0\n",
    "        count2 = 0\n",
    "        count3 = 0\n",
    "        for e in sums:\n",
    "            if e < max_val:\n",
    "                count1 += 1\n",
    "            elif e == max_val:\n",
    "                count2 += 1\n",
    "            elif e > max_val:\n",
    "                count3 += 1\n",
    "    return [{\"Below than \" + str(max_val): count1},\n",
    "            {\"Equals to \" + str(max_val): count2},\n",
    "            {\"Higher than \" + str(max_val): count3}]\n",
    "\n",
    "\n",
    "\n",
    "\n",
    "\n",
    "\n",
    "\n",
    "\n",
    "\n",
    "\n",
    "\n",
    "\n",
    "\n",
    "\n",
    "\n",
    "\n",
    "\n"
   ]
  },
  {
   "cell_type": "code",
   "execution_count": 12,
   "id": "a6d4ce5b",
   "metadata": {},
   "outputs": [],
   "source": []
  },
  {
   "cell_type": "code",
   "execution_count": 13,
   "id": "79f38ca2",
   "metadata": {},
   "outputs": [
    {
     "data": {
      "text/plain": [
       "<generator object combinations at 0x110d32580>"
      ]
     },
     "execution_count": 13,
     "metadata": {},
     "output_type": "execute_result"
    }
   ],
   "source": []
  },
  {
   "cell_type": "code",
   "execution_count": null,
   "id": "ffc81657",
   "metadata": {},
   "outputs": [],
   "source": []
  }
 ],
 "metadata": {
  "kernelspec": {
   "display_name": "Python [conda env:m2-ih]",
   "language": "python",
   "name": "conda-env-m2-ih-py"
  },
  "language_info": {
   "codemirror_mode": {
    "name": "ipython",
    "version": 3
   },
   "file_extension": ".py",
   "mimetype": "text/x-python",
   "name": "python",
   "nbconvert_exporter": "python",
   "pygments_lexer": "ipython3",
   "version": "3.9.12"
  }
 },
 "nbformat": 4,
 "nbformat_minor": 5
}
