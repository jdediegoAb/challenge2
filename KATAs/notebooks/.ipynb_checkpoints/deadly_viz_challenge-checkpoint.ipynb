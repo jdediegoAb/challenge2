{
 "cells": [
  {
   "cell_type": "markdown",
   "metadata": {},
   "source": [
    "# Deadly Visualizations!!!\n",
    "\n",
    "![Image](../images/viz_types_portada.png)"
   ]
  },
  {
   "cell_type": "markdown",
   "metadata": {},
   "source": [
    "## Setup\n",
    "\n",
    "First we need to create a basic setup which includes:\n",
    "\n",
    "- Importing the libraries.\n",
    "\n",
    "- Reading the dataset file (source [Instituto Nacional de Estadística](https://www.ine.es/ss/Satellite?L=es_ES&c=Page&cid=1259942408928&p=1259942408928&pagename=ProductosYServicios%2FPYSLayout)).\n",
    "\n",
    "- Create a couple of columns and tables for the analysis.\n",
    "\n",
    "__NOTE:__ some functions were already created in order to help you go through the challenge. However, feel free to perform any code you might need."
   ]
  },
  {
   "cell_type": "code",
   "execution_count": 1,
   "metadata": {},
   "outputs": [
    {
     "data": {
      "text/html": [
       "        <script type=\"text/javascript\">\n",
       "        window.PlotlyConfig = {MathJaxConfig: 'local'};\n",
       "        if (window.MathJax && window.MathJax.Hub && window.MathJax.Hub.Config) {window.MathJax.Hub.Config({SVG: {font: \"STIX-Web\"}});}\n",
       "        if (typeof require !== 'undefined') {\n",
       "        require.undef(\"plotly\");\n",
       "        requirejs.config({\n",
       "            paths: {\n",
       "                'plotly': ['https://cdn.plot.ly/plotly-2.12.1.min']\n",
       "            }\n",
       "        });\n",
       "        require(['plotly'], function(Plotly) {\n",
       "            window._Plotly = Plotly;\n",
       "        });\n",
       "        }\n",
       "        </script>\n",
       "        "
      ]
     },
     "metadata": {},
     "output_type": "display_data"
    }
   ],
   "source": [
    "# imports\n",
    "\n",
    "import sys\n",
    "import re\n",
    "sys.path.insert(0, \"../modules\")\n",
    "\n",
    "import numpy as np\n",
    "import pandas as pd\n",
    "\n",
    "import plotly.express as px\n",
    "import cufflinks as cf\n",
    "cf.go_offline()\n",
    "\n",
    "import module as mod     # functions are include in module.py"
   ]
  },
  {
   "cell_type": "code",
   "execution_count": 2,
   "metadata": {},
   "outputs": [
    {
     "name": "stdout",
     "output_type": "stream",
     "text": [
      "<class 'pandas.core.frame.DataFrame'>\n",
      "RangeIndex: 301158 entries, 0 to 301157\n",
      "Data columns (total 5 columns):\n",
      " #   Column           Non-Null Count   Dtype \n",
      "---  ------           --------------   ----- \n",
      " 0   Causa de muerte  301158 non-null  object\n",
      " 1   Sexo             301158 non-null  object\n",
      " 2   Edad             301158 non-null  object\n",
      " 3   Periodo          301158 non-null  int64 \n",
      " 4   Total            301158 non-null  int64 \n",
      "dtypes: int64(2), object(3)\n",
      "memory usage: 11.5+ MB\n"
     ]
    }
   ],
   "source": [
    "# read dataset\n",
    "\n",
    "deaths = pd.read_csv('../data/7947.csv', sep=';', thousands='.')\n",
    "\n",
    "deaths.info()"
   ]
  },
  {
   "cell_type": "code",
   "execution_count": 3,
   "metadata": {},
   "outputs": [
    {
     "name": "stdout",
     "output_type": "stream",
     "text": [
      "<class 'pandas.core.frame.DataFrame'>\n",
      "RangeIndex: 301158 entries, 0 to 301157\n",
      "Data columns (total 8 columns):\n",
      " #   Column           Non-Null Count   Dtype \n",
      "---  ------           --------------   ----- \n",
      " 0   Causa de muerte  301158 non-null  object\n",
      " 1   Sexo             301158 non-null  object\n",
      " 2   Edad             301158 non-null  object\n",
      " 3   Periodo          301158 non-null  int64 \n",
      " 4   Total            301158 non-null  int64 \n",
      " 5   cause_code       301158 non-null  object\n",
      " 6   cause_group      301158 non-null  object\n",
      " 7   cause_name       301158 non-null  object\n",
      "dtypes: int64(2), object(6)\n",
      "memory usage: 18.4+ MB\n"
     ]
    }
   ],
   "source": [
    "# add some columns...you'll need them later\n",
    "\n",
    "deaths['cause_code'] = deaths['Causa de muerte'].apply(mod.cause_code)\n",
    "deaths['cause_group'] = deaths['Causa de muerte'].apply(mod.cause_types)\n",
    "deaths['cause_name'] = deaths['Causa de muerte'].apply(mod.cause_name)\n",
    "\n",
    "deaths.info()"
   ]
  },
  {
   "cell_type": "code",
   "execution_count": 4,
   "metadata": {},
   "outputs": [
    {
     "data": {
      "text/html": [
       "<div>\n",
       "<style scoped>\n",
       "    .dataframe tbody tr th:only-of-type {\n",
       "        vertical-align: middle;\n",
       "    }\n",
       "\n",
       "    .dataframe tbody tr th {\n",
       "        vertical-align: top;\n",
       "    }\n",
       "\n",
       "    .dataframe thead th {\n",
       "        text-align: right;\n",
       "    }\n",
       "</style>\n",
       "<table border=\"1\" class=\"dataframe\">\n",
       "  <thead>\n",
       "    <tr style=\"text-align: right;\">\n",
       "      <th></th>\n",
       "      <th>categorical_variable</th>\n",
       "      <th>number_of_possible_values</th>\n",
       "      <th>values</th>\n",
       "    </tr>\n",
       "  </thead>\n",
       "  <tbody>\n",
       "    <tr>\n",
       "      <th>0</th>\n",
       "      <td>cause_code</td>\n",
       "      <td>117</td>\n",
       "      <td>[001-102, 001-008, 001, 002, 003, 004, 005, 00...</td>\n",
       "    </tr>\n",
       "    <tr>\n",
       "      <th>1</th>\n",
       "      <td>cause_name</td>\n",
       "      <td>117</td>\n",
       "      <td>[I-XXII.Todas las causas, I.Enfermedades infec...</td>\n",
       "    </tr>\n",
       "    <tr>\n",
       "      <th>2</th>\n",
       "      <td>Periodo</td>\n",
       "      <td>39</td>\n",
       "      <td>[2018, 2017, 2016, 2015, 2014, 2013, 2012, 201...</td>\n",
       "    </tr>\n",
       "    <tr>\n",
       "      <th>3</th>\n",
       "      <td>Edad</td>\n",
       "      <td>22</td>\n",
       "      <td>[Todas las edades, Menos de 1 año, De 1 a 4 añ...</td>\n",
       "    </tr>\n",
       "    <tr>\n",
       "      <th>4</th>\n",
       "      <td>Sexo</td>\n",
       "      <td>3</td>\n",
       "      <td>[Total, Hombres, Mujeres]</td>\n",
       "    </tr>\n",
       "    <tr>\n",
       "      <th>5</th>\n",
       "      <td>cause_group</td>\n",
       "      <td>2</td>\n",
       "      <td>[Multiple causes, Single cause]</td>\n",
       "    </tr>\n",
       "  </tbody>\n",
       "</table>\n",
       "</div>"
      ],
      "text/plain": [
       "  categorical_variable  number_of_possible_values  \\\n",
       "0           cause_code                        117   \n",
       "1           cause_name                        117   \n",
       "2              Periodo                         39   \n",
       "3                 Edad                         22   \n",
       "4                 Sexo                          3   \n",
       "5          cause_group                          2   \n",
       "\n",
       "                                              values  \n",
       "0  [001-102, 001-008, 001, 002, 003, 004, 005, 00...  \n",
       "1  [I-XXII.Todas las causas, I.Enfermedades infec...  \n",
       "2  [2018, 2017, 2016, 2015, 2014, 2013, 2012, 201...  \n",
       "3  [Todas las edades, Menos de 1 año, De 1 a 4 añ...  \n",
       "4                          [Total, Hombres, Mujeres]  \n",
       "5                    [Multiple causes, Single cause]  "
      ]
     },
     "execution_count": 4,
     "metadata": {},
     "output_type": "execute_result"
    }
   ],
   "source": [
    "# lets check the categorical variables\n",
    "\n",
    "var_list = ['Sexo', 'Edad', 'Periodo', 'cause_code', 'cause_name', 'cause_group']\n",
    "\n",
    "categories = mod.cat_var(deaths, var_list)\n",
    "categories"
   ]
  },
  {
   "cell_type": "code",
   "execution_count": 5,
   "metadata": {},
   "outputs": [
    {
     "data": {
      "text/html": [
       "<div>\n",
       "<style scoped>\n",
       "    .dataframe tbody tr th:only-of-type {\n",
       "        vertical-align: middle;\n",
       "    }\n",
       "\n",
       "    .dataframe tbody tr th {\n",
       "        vertical-align: top;\n",
       "    }\n",
       "\n",
       "    .dataframe thead th {\n",
       "        text-align: right;\n",
       "    }\n",
       "</style>\n",
       "<table border=\"1\" class=\"dataframe\">\n",
       "  <thead>\n",
       "    <tr style=\"text-align: right;\">\n",
       "      <th></th>\n",
       "      <th>cause_code</th>\n",
       "      <th>cause_name</th>\n",
       "    </tr>\n",
       "  </thead>\n",
       "  <tbody>\n",
       "    <tr>\n",
       "      <th>0</th>\n",
       "      <td>001</td>\n",
       "      <td>Enfermedades infecciosas intestinales</td>\n",
       "    </tr>\n",
       "    <tr>\n",
       "      <th>1</th>\n",
       "      <td>001-008</td>\n",
       "      <td>I.Enfermedades infecciosas y parasitarias</td>\n",
       "    </tr>\n",
       "    <tr>\n",
       "      <th>2</th>\n",
       "      <td>001-102</td>\n",
       "      <td>I-XXII.Todas las causas</td>\n",
       "    </tr>\n",
       "    <tr>\n",
       "      <th>3</th>\n",
       "      <td>002</td>\n",
       "      <td>Tuberculosis y sus efectos tardíos</td>\n",
       "    </tr>\n",
       "    <tr>\n",
       "      <th>4</th>\n",
       "      <td>003</td>\n",
       "      <td>Enfermedad meningocócica</td>\n",
       "    </tr>\n",
       "    <tr>\n",
       "      <th>...</th>\n",
       "      <td>...</td>\n",
       "      <td>...</td>\n",
       "    </tr>\n",
       "    <tr>\n",
       "      <th>112</th>\n",
       "      <td>098</td>\n",
       "      <td>Suicidio y lesiones autoinfligidas</td>\n",
       "    </tr>\n",
       "    <tr>\n",
       "      <th>113</th>\n",
       "      <td>099</td>\n",
       "      <td>Agresiones (homicidio)</td>\n",
       "    </tr>\n",
       "    <tr>\n",
       "      <th>114</th>\n",
       "      <td>100</td>\n",
       "      <td>Eventos de intención no determinada</td>\n",
       "    </tr>\n",
       "    <tr>\n",
       "      <th>115</th>\n",
       "      <td>101</td>\n",
       "      <td>Complicaciones de la atención médica y quirúrgica</td>\n",
       "    </tr>\n",
       "    <tr>\n",
       "      <th>116</th>\n",
       "      <td>102</td>\n",
       "      <td>Otras causas externas y sus efectos tardíos</td>\n",
       "    </tr>\n",
       "  </tbody>\n",
       "</table>\n",
       "<p>117 rows × 2 columns</p>\n",
       "</div>"
      ],
      "text/plain": [
       "    cause_code                                         cause_name\n",
       "0          001              Enfermedades infecciosas intestinales\n",
       "1      001-008          I.Enfermedades infecciosas y parasitarias\n",
       "2      001-102                            I-XXII.Todas las causas\n",
       "3          002                 Tuberculosis y sus efectos tardíos\n",
       "4          003                           Enfermedad meningocócica\n",
       "..         ...                                                ...\n",
       "112        098                 Suicidio y lesiones autoinfligidas\n",
       "113        099                             Agresiones (homicidio)\n",
       "114        100                Eventos de intención no determinada\n",
       "115        101  Complicaciones de la atención médica y quirúrgica\n",
       "116        102        Otras causas externas y sus efectos tardíos\n",
       "\n",
       "[117 rows x 2 columns]"
      ]
     },
     "execution_count": 5,
     "metadata": {},
     "output_type": "execute_result"
    }
   ],
   "source": [
    "# we need also to create a causes table for the analysis\n",
    "\n",
    "causes_table = deaths[['cause_code', 'cause_name']].drop_duplicates().sort_values(by='cause_code').reset_index(drop=True)\n",
    "\n",
    "causes_table"
   ]
  },
  {
   "cell_type": "code",
   "execution_count": null,
   "metadata": {},
   "outputs": [],
   "source": [
    "# And some space for free-style Pandas!!! (e.g.: df['column_name'].unique())\n",
    "\n",
    "\n",
    "\n",
    "\n",
    "\n",
    "\n"
   ]
  },
  {
   "cell_type": "markdown",
   "metadata": {},
   "source": [
    "## Lets make some transformations\n",
    "\n",
    "Eventhough the dataset is pretty clean, the information is completely denormalized as you could see. For that matter a collection of methods (functions) are available in order to generate the tables you might need:\n",
    "\n",
    "- `row_filter(df, cat_var, cat_values)` => Filter rows by any value or group of values in a categorical variable.\n",
    "\n",
    "- `nrow_filter(df, cat_var, cat_values)` => The same but backwards. \n",
    "\n",
    "- `groupby_sum(df, group_vars, agg_var='Total', sort_var='Total')` => Add deaths by a certain variable.\n",
    "\n",
    "- `pivot_table(df, col, x_axis, value='Total')`=> Make some pivot tables, you might need them...\n",
    "\n",
    "__NOTE:__ be aware that the filtering methods can perform a filter at a time. Feel free to perform the filter you need in any way you want or feel confortable with."
   ]
  },
  {
   "cell_type": "code",
   "execution_count": null,
   "metadata": {},
   "outputs": [],
   "source": [
    "# Example 1\n",
    "'''\n",
    "dataset = mod.row_filter(deaths, 'Sexo', ['Total'])\n",
    "dataset = mod.row_filter(dataset, 'Edad', ['Todas las edades'])\n",
    "dataset.head()\n",
    "'''"
   ]
  },
  {
   "cell_type": "code",
   "execution_count": null,
   "metadata": {},
   "outputs": [],
   "source": [
    "# Example 2\n",
    "'''\n",
    "group = ['cause_code','Periodo']\n",
    "dataset = mod.groupby_sum(deaths, group)\n",
    "dataset.head()\n",
    "'''"
   ]
  },
  {
   "cell_type": "code",
   "execution_count": null,
   "metadata": {},
   "outputs": [],
   "source": [
    "# Example 3\n",
    "'''\n",
    "dataset = mod.pivot_table(dataset, 'cause_code', 'Periodo')\n",
    "dataset.head()\n",
    "'''"
   ]
  },
  {
   "cell_type": "markdown",
   "metadata": {},
   "source": [
    "## ...and finally, show me some insights with Plotly!!!"
   ]
  },
  {
   "cell_type": "code",
   "execution_count": null,
   "metadata": {},
   "outputs": [],
   "source": [
    "# Cufflinks histogram\n",
    "'''\n",
    "dataset_column.iplot(kind='hist',\n",
    "                     title='VIZ TITLE',\n",
    "                     yTitle='AXIS TITLE',\n",
    "                     xTitle='AXIS TITLE')\n",
    "'''"
   ]
  },
  {
   "cell_type": "code",
   "execution_count": null,
   "metadata": {},
   "outputs": [],
   "source": [
    "# Cufflinks bar plot\n",
    "'''\n",
    "dataset_bar.iplot(kind='bar',\n",
    "                  x='VARIABLE',\n",
    "                  xTitle='AXIS TITLE',\n",
    "                  yTitle='AXIS TITLE',\n",
    "                  title='VIZ TITLE')\n",
    "'''"
   ]
  },
  {
   "cell_type": "code",
   "execution_count": null,
   "metadata": {},
   "outputs": [],
   "source": [
    "# Cufflinks line plot\n",
    "'''\n",
    "dataset_line.iplot(kind='line',\n",
    "                   x='VARIABLE',\n",
    "                   xTitle='AXIS TITLE',\n",
    "                   yTitle='AXIS TITLE',\n",
    "                   title='VIZ TITLE')\n",
    "'''"
   ]
  },
  {
   "cell_type": "code",
   "execution_count": null,
   "metadata": {},
   "outputs": [],
   "source": [
    "# Cufflinks scatter plot\n",
    "'''\n",
    "dataset_scatter.iplot(x='VARIABLE', \n",
    "                      y='VARIABLE', \n",
    "                      categories='VARIABLE',\n",
    "                      xTitle='AXIS TITLE', \n",
    "                      yTitle='AXIS TITLE',\n",
    "                      title='VIZ TITLE')\n",
    "'''"
   ]
  }
 ],
 "metadata": {
  "kernelspec": {
   "display_name": "Python 3.9.13 ('m1-ih')",
   "language": "python",
   "name": "python3913jvsc74a57bd05e80755c78bf14ae5c8c43e42a6760e2cd8311bcd4a8ac6eaf709700ba3e25b3"
  },
  "language_info": {
   "codemirror_mode": {
    "name": "ipython",
    "version": 3
   },
   "file_extension": ".py",
   "mimetype": "text/x-python",
   "name": "python",
   "nbconvert_exporter": "python",
   "pygments_lexer": "ipython3",
   "version": "3.9.13"
  }
 },
 "nbformat": 4,
 "nbformat_minor": 2
}
